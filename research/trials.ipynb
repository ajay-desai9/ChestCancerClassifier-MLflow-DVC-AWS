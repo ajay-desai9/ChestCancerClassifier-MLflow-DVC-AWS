{
 "cells": [
  {
   "cell_type": "code",
   "execution_count": 4,
   "id": "636e5582",
   "metadata": {},
   "outputs": [],
   "source": [
    "import gdown"
   ]
  },
  {
   "cell_type": "code",
   "execution_count": 1,
   "id": "3584b22f",
   "metadata": {},
   "outputs": [],
   "source": [
    "url = \"https://drive.google.com/file/d/18sT_Q_S05ouygVTGRPtdo6Ixy_n-CEEl/view?usp=drive_link\"\n",
    "file_id = url.split(\"/\")[-2]"
   ]
  },
  {
   "cell_type": "code",
   "execution_count": 2,
   "id": "1ed3ac51",
   "metadata": {},
   "outputs": [
    {
     "data": {
      "text/plain": [
       "'18sT_Q_S05ouygVTGRPtdo6Ixy_n-CEEl'"
      ]
     },
     "execution_count": 2,
     "metadata": {},
     "output_type": "execute_result"
    }
   ],
   "source": [
    "file_id"
   ]
  },
  {
   "cell_type": "code",
   "execution_count": 5,
   "id": "c9688bd0",
   "metadata": {},
   "outputs": [
    {
     "name": "stderr",
     "output_type": "stream",
     "text": [
      "Downloading...\n",
      "From (original): https://drive.google.com/uc?/export=download&id=18sT_Q_S05ouygVTGRPtdo6Ixy_n-CEEl\n",
      "From (redirected): https://drive.google.com/uc?%2Fexport=download&id=18sT_Q_S05ouygVTGRPtdo6Ixy_n-CEEl&confirm=t&uuid=dbe62b54-892b-4a13-ae89-3bc782a3d14e\n",
      "To: /Users/ajaydesai/ajay.test/ChestCancerClassifier-MLflow-DVC-AWS/research/Chest-CT-Scan-data.zip\n",
      "100%|██████████| 124M/124M [00:32<00:00, 3.89MB/s] \n"
     ]
    },
    {
     "data": {
      "text/plain": [
       "'Chest-CT-Scan-data.zip'"
      ]
     },
     "execution_count": 5,
     "metadata": {},
     "output_type": "execute_result"
    }
   ],
   "source": [
    "prefix = 'https://drive.google.com/uc?/export=download&id='\n",
    "gdown.download(prefix+file_id, \"Chest-CT-Scan-data.zip\")"
   ]
  }
 ],
 "metadata": {
  "kernelspec": {
   "display_name": "cancer",
   "language": "python",
   "name": "python3"
  },
  "language_info": {
   "codemirror_mode": {
    "name": "ipython",
    "version": 3
   },
   "file_extension": ".py",
   "mimetype": "text/x-python",
   "name": "python",
   "nbconvert_exporter": "python",
   "pygments_lexer": "ipython3",
   "version": "3.8.20"
  }
 },
 "nbformat": 4,
 "nbformat_minor": 5
}
